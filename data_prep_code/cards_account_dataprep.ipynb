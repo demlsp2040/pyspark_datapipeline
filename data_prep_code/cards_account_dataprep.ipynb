{
 "cells": [
  {
   "cell_type": "code",
   "execution_count": 9,
   "metadata": {},
   "outputs": [],
   "source": [
    "import numpy as np\n",
    "import pandas as pd\n",
    "import random\n",
    "from random import randint\n",
    "import string\n",
    "from pyspark.sql.types import *\n",
    "from pyspark.sql.functions import when\n",
    "from pyspark.ml.feature import Imputer\n",
    "from datetime import datetime, timedelta"
   ]
  },
  {
   "cell_type": "code",
   "execution_count": 10,
   "metadata": {},
   "outputs": [],
   "source": [
    "from pyspark.sql import SparkSession\n",
    "spark = SparkSession.builder.master(\"local\").appName(\"sourcedata\").getOrCreate()"
   ]
  },
  {
   "cell_type": "code",
   "execution_count": 11,
   "metadata": {},
   "outputs": [],
   "source": [
    "rec_cnt=1001\n",
    "dataset_date=\"2022-01-03\"\n",
    "data_dir=\"/home/cloudera/projects/notebook/data/\"\n",
    "file_name=data_dir+\"cards_account_ingest_\"+dataset_date+\".csv\"\n",
    "columns=['account_id','account_open_dt','account_id_type','acct_hldr_primary_addr_state',\\\n",
    "            'acct_hldr_primary_addr_zip_cd','acct_hldr_first_name','acct_hldr_last_name','dataset_date']"
   ]
  },
  {
   "cell_type": "code",
   "execution_count": 12,
   "metadata": {},
   "outputs": [],
   "source": [
    "def getRandomDates():\n",
    "    start = datetime.now()\n",
    "    end = start + timedelta(days=700)\n",
    "    random_date = (start - (end - start) * random.random()).strftime('%Y-%m-%d')\n",
    "    return random_date"
   ]
  },
  {
   "cell_type": "code",
   "execution_count": 13,
   "metadata": {},
   "outputs": [],
   "source": [
    "def get_random_string(length):\n",
    "    # choose from all lowercase letter\n",
    "    letters = string.ascii_lowercase\n",
    "    result_str = ''.join(random.choice(letters) for i in range(length))\n",
    "    return result_str"
   ]
  },
  {
   "cell_type": "code",
   "execution_count": 14,
   "metadata": {},
   "outputs": [],
   "source": [
    "def build_schema():\n",
    "    print(\"Build and return a schema to use for the sample data.\")\n",
    "    schema = StructType(\n",
    "        [\n",
    "            StructField(\"account_id\",  StringType(),  True),\n",
    "            StructField(\"account_open_dt\",      StringType(),  True),\n",
    "            StructField(\"account_id_type\", StringType(),  True),\n",
    "            StructField(\"acct_hldr_primary_addr_state\", StringType(),  True),\n",
    "            StructField(\"acct_hldr_primary_addr_zip_cd\",    StringType(),  True),\n",
    "            StructField(\"acct_hldr_first_name\", StringType(),  True),\n",
    "            StructField(\"acct_hldr_last_name\", StringType(),  True),\n",
    "            StructField(\"dataset_date\",  StringType(),  True)\n",
    "        ]\n",
    "    )\n",
    "    return schema"
   ]
  },
  {
   "cell_type": "code",
   "execution_count": 15,
   "metadata": {},
   "outputs": [
    {
     "name": "stdout",
     "output_type": "stream",
     "text": [
      "Build and return a schema to use for the sample data.\n"
     ]
    }
   ],
   "source": [
    "\n",
    "def build_data(cnt):\n",
    "    rec = []\n",
    "    for i in range(1,rec_cnt):\n",
    "        account_id =  random.choice([\"SV\",\"CK\",\"PV\"])+str(randint(27618,189765))\n",
    "        account_open_dt = getRandomDates()\n",
    "        acct_hldr_primary_addr_zip_cd=str(randint(23456,98776))\n",
    "        acct_hldr_primary_addr_state = random.choice(['AL','AK','AZ','AR','CA','CO','CT','DE','DC',\\\n",
    "                                                      'FL','GA','HI','ID','IL','IN','IA','KS','KY','LA',\\\n",
    "                                                      'ME','MD','MA'])\n",
    "        account_id_type = random.choice([\"Saving\",\"Checkin\",\"Private\"])\n",
    "        acct_hldr_first_name=get_random_string(10)\n",
    "        acct_hldr_last_name=get_random_string(6)\n",
    "        rec.append(account_id + \"~\" +\n",
    "                   account_open_dt + \"~\" +\n",
    "                   account_id_type + \"~\" +\n",
    "                   acct_hldr_primary_addr_state + \"~\" +\n",
    "                   acct_hldr_primary_addr_zip_cd + \"~\" +\n",
    "                   acct_hldr_first_name + \"~\" +\n",
    "                   acct_hldr_last_name + \"~\" +\n",
    "                   dataset_date)\n",
    "    return (rec)\n",
    "\n",
    "\n",
    "hist_data = build_data(int(rec_cnt))\n",
    "histrawInput = sc.parallelize(hist_data)\n",
    "histrawInputSplit = histrawInput.map(lambda x: x.split(\"~\"))\n",
    "hist_df = spark.createDataFrame(histrawInputSplit, schema=build_schema())\n",
    "hist_df.toPandas().to_csv(file_name,index=False)"
   ]
  },
  {
   "cell_type": "code",
   "execution_count": 16,
   "metadata": {},
   "outputs": [],
   "source": [
    "# hist_df.toPandas().to_csv(file_name,index=False)"
   ]
  },
  {
   "cell_type": "code",
   "execution_count": null,
   "metadata": {},
   "outputs": [],
   "source": []
  }
 ],
 "metadata": {
  "kernelspec": {
   "display_name": "Python 3",
   "language": "python",
   "name": "python3"
  },
  "language_info": {
   "codemirror_mode": {
    "name": "ipython",
    "version": 3
   },
   "file_extension": ".py",
   "mimetype": "text/x-python",
   "name": "python",
   "nbconvert_exporter": "python",
   "pygments_lexer": "ipython3",
   "version": "3.7.3"
  }
 },
 "nbformat": 4,
 "nbformat_minor": 2
}
